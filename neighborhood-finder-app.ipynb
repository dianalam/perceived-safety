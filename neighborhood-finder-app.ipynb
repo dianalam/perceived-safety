{
 "cells": [
  {
   "cell_type": "code",
   "execution_count": 3,
   "metadata": {
    "collapsed": false
   },
   "outputs": [],
   "source": [
    "import requests\n",
    "import urllib\n",
    "import pickle\n",
    "import tqdm\n",
    "from PIL import Image\n",
    "import os\n",
    "import numpy\n",
    "from geopy.geocoders import GoogleV3, Nominatim\n",
    "from geopy.distance import great_circle, vincenty"
   ]
  },
  {
   "cell_type": "code",
   "execution_count": 4,
   "metadata": {
    "collapsed": true
   },
   "outputs": [],
   "source": [
    "def open_pkl(path):\n",
    "    \"\"\"Open pickle file.\"\"\"\n",
    "    with open(path, 'r') as picklefile:\n",
    "        f = pickle.load(picklefile)\n",
    "    return f\n",
    "\n",
    "def to_pkl(path, name):\n",
    "    \"Pickle a file.\"\n",
    "    with open(path, 'w') as picklefile:\n",
    "        pickle.dump(name, picklefile)"
   ]
  },
  {
   "cell_type": "code",
   "execution_count": 3,
   "metadata": {
    "collapsed": true
   },
   "outputs": [],
   "source": [
    "def get_image(lat, lon):\n",
    "    \"\"\"Fetch google streetview image for given coordinate and save to disk.\"\"\"\n",
    "    url = 'http://maps.googleapis.com/maps/api/streetview?size=470x306&location=%f,%f&sensor=false' %(lat, lon)\n",
    "    urllib.urlretrieve(url, 'streetview/%f,%f.jpg' %(lat, lon))\n",
    "    return "
   ]
  },
  {
   "cell_type": "markdown",
   "metadata": {},
   "source": [
    "### APP PIPELINE"
   ]
  },
  {
   "cell_type": "markdown",
   "metadata": {
    "collapsed": true
   },
   "source": [
    "#### 1. Get lat, lon coordinates given an address."
   ]
  },
  {
   "cell_type": "code",
   "execution_count": 12,
   "metadata": {
    "collapsed": true
   },
   "outputs": [],
   "source": [
    "def get_coord_from_address(add):\n",
    "    geolocator = Nominatim()\n",
    "    location = geolocator.geocode(add)\n",
    "    return (location.latitude, location.longitude)"
   ]
  },
  {
   "cell_type": "code",
   "execution_count": 10,
   "metadata": {
    "collapsed": false
   },
   "outputs": [
    {
     "data": {
      "text/plain": [
       "(40.727497, -73.947654)"
      ]
     },
     "execution_count": 10,
     "metadata": {},
     "output_type": "execute_result"
    }
   ],
   "source": [
    "# test \n",
    "get_coord_from_address('138 Diamond Street Brooklyn')"
   ]
  },
  {
   "cell_type": "markdown",
   "metadata": {},
   "source": [
    "#### 2. Find closest coordinate within ssp dataset."
   ]
  },
  {
   "cell_type": "code",
   "execution_count": null,
   "metadata": {
    "collapsed": true
   },
   "outputs": [],
   "source": []
  },
  {
   "cell_type": "markdown",
   "metadata": {},
   "source": [
    "#### 3. Show image of location and four (or X) images from random coordinates within the same census tract."
   ]
  },
  {
   "cell_type": "markdown",
   "metadata": {},
   "source": [
    "#### 4. Show perceived safety zscore, actual danger zscore, and difference score. + other demographic data?"
   ]
  },
  {
   "cell_type": "markdown",
   "metadata": {},
   "source": [
    "#### 5. Search for neighborhoods with similar scores and demographic data."
   ]
  }
 ],
 "metadata": {
  "kernelspec": {
   "display_name": "Python 2",
   "language": "python",
   "name": "python2"
  },
  "language_info": {
   "codemirror_mode": {
    "name": "ipython",
    "version": 2
   },
   "file_extension": ".py",
   "mimetype": "text/x-python",
   "name": "python",
   "nbconvert_exporter": "python",
   "pygments_lexer": "ipython2",
   "version": "2.7.11"
  }
 },
 "nbformat": 4,
 "nbformat_minor": 0
}
